{
  "nbformat": 4,
  "nbformat_minor": 0,
  "metadata": {
    "colab": {
      "provenance": []
    },
    "kernelspec": {
      "name": "python3",
      "display_name": "Python 3"
    },
    "language_info": {
      "name": "python"
    }
  },
  "cells": [
    {
      "cell_type": "code",
      "execution_count": 2,
      "metadata": {
        "id": "xMxKKm1nSyEJ"
      },
      "outputs": [],
      "source": [
        "import nltk\n",
        "import re\n",
        "import numpy as np\n",
        "import pandas as pd\n",
        "import csv"
      ]
    },
    {
      "cell_type": "code",
      "source": [
        "data = pd.read_csv('Numbers.txt', names=['Numbers'],dtype=str)\n",
        "data"
      ],
      "metadata": {
        "colab": {
          "base_uri": "https://localhost:8080/",
          "height": 802
        },
        "id": "LA-vfNESVkC2",
        "outputId": "43c8beba-c38c-496c-fe0d-0c19d8b8cc6c"
      },
      "execution_count": 3,
      "outputs": [
        {
          "output_type": "execute_result",
          "data": {
            "text/plain": [
              "        Numbers\n",
              "0   03003576658\n",
              "1   03103576658\n",
              "2   03333576658\n",
              "3   03403576658\n",
              "4   03006486585\n",
              "5   03106486585\n",
              "6   03336486585\n",
              "7   03406486585\n",
              "8   03003548345\n",
              "9   03103548345\n",
              "10  03333548345\n",
              "11  03403548345\n",
              "12  03004866523\n",
              "13  03104866523\n",
              "14  03334866523\n",
              "15  03404866523\n",
              "16  03007686898\n",
              "17  03107686898\n",
              "18  03337686898\n",
              "19  03407686898\n",
              "20  03007686898\n",
              "21  03107686898\n",
              "22  03337682898\n",
              "23  03407685698"
            ],
            "text/html": [
              "\n",
              "  <div id=\"df-d1f1b17a-cd27-462e-8a56-2da0987ffeb2\">\n",
              "    <div class=\"colab-df-container\">\n",
              "      <div>\n",
              "<style scoped>\n",
              "    .dataframe tbody tr th:only-of-type {\n",
              "        vertical-align: middle;\n",
              "    }\n",
              "\n",
              "    .dataframe tbody tr th {\n",
              "        vertical-align: top;\n",
              "    }\n",
              "\n",
              "    .dataframe thead th {\n",
              "        text-align: right;\n",
              "    }\n",
              "</style>\n",
              "<table border=\"1\" class=\"dataframe\">\n",
              "  <thead>\n",
              "    <tr style=\"text-align: right;\">\n",
              "      <th></th>\n",
              "      <th>Numbers</th>\n",
              "    </tr>\n",
              "  </thead>\n",
              "  <tbody>\n",
              "    <tr>\n",
              "      <th>0</th>\n",
              "      <td>03003576658</td>\n",
              "    </tr>\n",
              "    <tr>\n",
              "      <th>1</th>\n",
              "      <td>03103576658</td>\n",
              "    </tr>\n",
              "    <tr>\n",
              "      <th>2</th>\n",
              "      <td>03333576658</td>\n",
              "    </tr>\n",
              "    <tr>\n",
              "      <th>3</th>\n",
              "      <td>03403576658</td>\n",
              "    </tr>\n",
              "    <tr>\n",
              "      <th>4</th>\n",
              "      <td>03006486585</td>\n",
              "    </tr>\n",
              "    <tr>\n",
              "      <th>5</th>\n",
              "      <td>03106486585</td>\n",
              "    </tr>\n",
              "    <tr>\n",
              "      <th>6</th>\n",
              "      <td>03336486585</td>\n",
              "    </tr>\n",
              "    <tr>\n",
              "      <th>7</th>\n",
              "      <td>03406486585</td>\n",
              "    </tr>\n",
              "    <tr>\n",
              "      <th>8</th>\n",
              "      <td>03003548345</td>\n",
              "    </tr>\n",
              "    <tr>\n",
              "      <th>9</th>\n",
              "      <td>03103548345</td>\n",
              "    </tr>\n",
              "    <tr>\n",
              "      <th>10</th>\n",
              "      <td>03333548345</td>\n",
              "    </tr>\n",
              "    <tr>\n",
              "      <th>11</th>\n",
              "      <td>03403548345</td>\n",
              "    </tr>\n",
              "    <tr>\n",
              "      <th>12</th>\n",
              "      <td>03004866523</td>\n",
              "    </tr>\n",
              "    <tr>\n",
              "      <th>13</th>\n",
              "      <td>03104866523</td>\n",
              "    </tr>\n",
              "    <tr>\n",
              "      <th>14</th>\n",
              "      <td>03334866523</td>\n",
              "    </tr>\n",
              "    <tr>\n",
              "      <th>15</th>\n",
              "      <td>03404866523</td>\n",
              "    </tr>\n",
              "    <tr>\n",
              "      <th>16</th>\n",
              "      <td>03007686898</td>\n",
              "    </tr>\n",
              "    <tr>\n",
              "      <th>17</th>\n",
              "      <td>03107686898</td>\n",
              "    </tr>\n",
              "    <tr>\n",
              "      <th>18</th>\n",
              "      <td>03337686898</td>\n",
              "    </tr>\n",
              "    <tr>\n",
              "      <th>19</th>\n",
              "      <td>03407686898</td>\n",
              "    </tr>\n",
              "    <tr>\n",
              "      <th>20</th>\n",
              "      <td>03007686898</td>\n",
              "    </tr>\n",
              "    <tr>\n",
              "      <th>21</th>\n",
              "      <td>03107686898</td>\n",
              "    </tr>\n",
              "    <tr>\n",
              "      <th>22</th>\n",
              "      <td>03337682898</td>\n",
              "    </tr>\n",
              "    <tr>\n",
              "      <th>23</th>\n",
              "      <td>03407685698</td>\n",
              "    </tr>\n",
              "  </tbody>\n",
              "</table>\n",
              "</div>\n",
              "      <button class=\"colab-df-convert\" onclick=\"convertToInteractive('df-d1f1b17a-cd27-462e-8a56-2da0987ffeb2')\"\n",
              "              title=\"Convert this dataframe to an interactive table.\"\n",
              "              style=\"display:none;\">\n",
              "        \n",
              "  <svg xmlns=\"http://www.w3.org/2000/svg\" height=\"24px\"viewBox=\"0 0 24 24\"\n",
              "       width=\"24px\">\n",
              "    <path d=\"M0 0h24v24H0V0z\" fill=\"none\"/>\n",
              "    <path d=\"M18.56 5.44l.94 2.06.94-2.06 2.06-.94-2.06-.94-.94-2.06-.94 2.06-2.06.94zm-11 1L8.5 8.5l.94-2.06 2.06-.94-2.06-.94L8.5 2.5l-.94 2.06-2.06.94zm10 10l.94 2.06.94-2.06 2.06-.94-2.06-.94-.94-2.06-.94 2.06-2.06.94z\"/><path d=\"M17.41 7.96l-1.37-1.37c-.4-.4-.92-.59-1.43-.59-.52 0-1.04.2-1.43.59L10.3 9.45l-7.72 7.72c-.78.78-.78 2.05 0 2.83L4 21.41c.39.39.9.59 1.41.59.51 0 1.02-.2 1.41-.59l7.78-7.78 2.81-2.81c.8-.78.8-2.07 0-2.86zM5.41 20L4 18.59l7.72-7.72 1.47 1.35L5.41 20z\"/>\n",
              "  </svg>\n",
              "      </button>\n",
              "      \n",
              "  <style>\n",
              "    .colab-df-container {\n",
              "      display:flex;\n",
              "      flex-wrap:wrap;\n",
              "      gap: 12px;\n",
              "    }\n",
              "\n",
              "    .colab-df-convert {\n",
              "      background-color: #E8F0FE;\n",
              "      border: none;\n",
              "      border-radius: 50%;\n",
              "      cursor: pointer;\n",
              "      display: none;\n",
              "      fill: #1967D2;\n",
              "      height: 32px;\n",
              "      padding: 0 0 0 0;\n",
              "      width: 32px;\n",
              "    }\n",
              "\n",
              "    .colab-df-convert:hover {\n",
              "      background-color: #E2EBFA;\n",
              "      box-shadow: 0px 1px 2px rgba(60, 64, 67, 0.3), 0px 1px 3px 1px rgba(60, 64, 67, 0.15);\n",
              "      fill: #174EA6;\n",
              "    }\n",
              "\n",
              "    [theme=dark] .colab-df-convert {\n",
              "      background-color: #3B4455;\n",
              "      fill: #D2E3FC;\n",
              "    }\n",
              "\n",
              "    [theme=dark] .colab-df-convert:hover {\n",
              "      background-color: #434B5C;\n",
              "      box-shadow: 0px 1px 3px 1px rgba(0, 0, 0, 0.15);\n",
              "      filter: drop-shadow(0px 1px 2px rgba(0, 0, 0, 0.3));\n",
              "      fill: #FFFFFF;\n",
              "    }\n",
              "  </style>\n",
              "\n",
              "      <script>\n",
              "        const buttonEl =\n",
              "          document.querySelector('#df-d1f1b17a-cd27-462e-8a56-2da0987ffeb2 button.colab-df-convert');\n",
              "        buttonEl.style.display =\n",
              "          google.colab.kernel.accessAllowed ? 'block' : 'none';\n",
              "\n",
              "        async function convertToInteractive(key) {\n",
              "          const element = document.querySelector('#df-d1f1b17a-cd27-462e-8a56-2da0987ffeb2');\n",
              "          const dataTable =\n",
              "            await google.colab.kernel.invokeFunction('convertToInteractive',\n",
              "                                                     [key], {});\n",
              "          if (!dataTable) return;\n",
              "\n",
              "          const docLinkHtml = 'Like what you see? Visit the ' +\n",
              "            '<a target=\"_blank\" href=https://colab.research.google.com/notebooks/data_table.ipynb>data table notebook</a>'\n",
              "            + ' to learn more about interactive tables.';\n",
              "          element.innerHTML = '';\n",
              "          dataTable['output_type'] = 'display_data';\n",
              "          await google.colab.output.renderOutput(dataTable, element);\n",
              "          const docLink = document.createElement('div');\n",
              "          docLink.innerHTML = docLinkHtml;\n",
              "          element.appendChild(docLink);\n",
              "        }\n",
              "      </script>\n",
              "    </div>\n",
              "  </div>\n",
              "  "
            ]
          },
          "metadata": {},
          "execution_count": 3
        }
      ]
    },
    {
      "cell_type": "code",
      "source": [
        "#}data['Numbers'] = data['Numbers'].astype(str)\n",
        "numbers = data['Numbers'].str.findall(r'\\d+')\n",
        "print(numbers)"
      ],
      "metadata": {
        "colab": {
          "base_uri": "https://localhost:8080/"
        },
        "id": "WTbwzUryV6Tn",
        "outputId": "32dbb97c-c970-459f-8334-f91ba1d8b793"
      },
      "execution_count": 4,
      "outputs": [
        {
          "output_type": "stream",
          "name": "stdout",
          "text": [
            "0     [03003576658]\n",
            "1     [03103576658]\n",
            "2     [03333576658]\n",
            "3     [03403576658]\n",
            "4     [03006486585]\n",
            "5     [03106486585]\n",
            "6     [03336486585]\n",
            "7     [03406486585]\n",
            "8     [03003548345]\n",
            "9     [03103548345]\n",
            "10    [03333548345]\n",
            "11    [03403548345]\n",
            "12    [03004866523]\n",
            "13    [03104866523]\n",
            "14    [03334866523]\n",
            "15    [03404866523]\n",
            "16    [03007686898]\n",
            "17    [03107686898]\n",
            "18    [03337686898]\n",
            "19    [03407686898]\n",
            "20    [03007686898]\n",
            "21    [03107686898]\n",
            "22    [03337682898]\n",
            "23    [03407685698]\n",
            "Name: Numbers, dtype: object\n"
          ]
        }
      ]
    },
    {
      "cell_type": "code",
      "source": [
        "#Checking what values are not strings because error was given for non string objects present\n",
        "non_strings = [item for item in numbers if not isinstance(item, str)]\n",
        "print(non_strings)"
      ],
      "metadata": {
        "colab": {
          "base_uri": "https://localhost:8080/"
        },
        "id": "8Tk9yBKNtqsq",
        "outputId": "5784ac69-8362-43fe-c316-a76914bf1223"
      },
      "execution_count": 5,
      "outputs": [
        {
          "output_type": "stream",
          "name": "stdout",
          "text": [
            "[['03003576658'], ['03103576658'], ['03333576658'], ['03403576658'], ['03006486585'], ['03106486585'], ['03336486585'], ['03406486585'], ['03003548345'], ['03103548345'], ['03333548345'], ['03403548345'], ['03004866523'], ['03104866523'], ['03334866523'], ['03404866523'], ['03007686898'], ['03107686898'], ['03337686898'], ['03407686898'], ['03007686898'], ['03107686898'], ['03337682898'], ['03407685698']]\n"
          ]
        }
      ]
    },
    {
      "cell_type": "code",
      "source": [
        "#Accesssing nested list values to store as a strign seperated by commas \n",
        "Str_Num = ', '.join([' '.join(inner_list) for inner_list in numbers])\n",
        "Str_Num"
      ],
      "metadata": {
        "colab": {
          "base_uri": "https://localhost:8080/",
          "height": 88
        },
        "id": "upoDjCleqY5l",
        "outputId": "9e62b45b-ef91-4bbf-f85b-7a470873fda5"
      },
      "execution_count": 6,
      "outputs": [
        {
          "output_type": "execute_result",
          "data": {
            "text/plain": [
              "'03003576658, 03103576658, 03333576658, 03403576658, 03006486585, 03106486585, 03336486585, 03406486585, 03003548345, 03103548345, 03333548345, 03403548345, 03004866523, 03104866523, 03334866523, 03404866523, 03007686898, 03107686898, 03337686898, 03407686898, 03007686898, 03107686898, 03337682898, 03407685698'"
            ],
            "application/vnd.google.colaboratory.intrinsic+json": {
              "type": "string"
            }
          },
          "metadata": {},
          "execution_count": 6
        }
      ]
    },
    {
      "cell_type": "code",
      "source": [
        "jazz_pattern = re.compile(r'0300\\d{7}')\n",
        "# Find all occurrences of the pattern in the string\n",
        "matches = jazz_pattern.findall(Str_Num)\n",
        "for match in matches:\n",
        "    print(\"Jazz : \" ,match)"
      ],
      "metadata": {
        "colab": {
          "base_uri": "https://localhost:8080/"
        },
        "id": "F0ItSxZKZe_m",
        "outputId": "896135eb-2196-46c7-97a5-88dcf152526a"
      },
      "execution_count": 7,
      "outputs": [
        {
          "output_type": "stream",
          "name": "stdout",
          "text": [
            "Jazz :  03003576658\n",
            "Jazz :  03006486585\n",
            "Jazz :  03003548345\n",
            "Jazz :  03004866523\n",
            "Jazz :  03007686898\n",
            "Jazz :  03007686898\n"
          ]
        }
      ]
    },
    {
      "cell_type": "code",
      "source": [
        "zong_pattern = re.compile(r'0310\\d{7}')\n",
        "# Find all occurrences of the pattern in the string\n",
        "matches = zong_pattern.findall(Str_Num)\n",
        "matches\n",
        "for match in matches:\n",
        "    print(\"Zong : \" ,match)"
      ],
      "metadata": {
        "colab": {
          "base_uri": "https://localhost:8080/"
        },
        "id": "KZQDp2tAkaMm",
        "outputId": "809ef427-eec6-48d3-c333-245daa840c64"
      },
      "execution_count": 8,
      "outputs": [
        {
          "output_type": "stream",
          "name": "stdout",
          "text": [
            "Zong :  03103576658\n",
            "Zong :  03106486585\n",
            "Zong :  03103548345\n",
            "Zong :  03104866523\n",
            "Zong :  03107686898\n",
            "Zong :  03107686898\n"
          ]
        }
      ]
    },
    {
      "cell_type": "code",
      "source": [
        "ufone_pattern = re.compile(r'0333\\d{7}')\n",
        "# Find all occurrences of the pattern in the string\n",
        "matches = ufone_pattern.findall(Str_Num)\n",
        "for match in matches:\n",
        "    print(\"Ufone : \" ,match)"
      ],
      "metadata": {
        "colab": {
          "base_uri": "https://localhost:8080/"
        },
        "id": "u_FbdGTBnmG3",
        "outputId": "d6d4ca96-fa74-4786-ef2b-ea33e1b9c1c4"
      },
      "execution_count": 9,
      "outputs": [
        {
          "output_type": "stream",
          "name": "stdout",
          "text": [
            "Ufone :  03333576658\n",
            "Ufone :  03336486585\n",
            "Ufone :  03333548345\n",
            "Ufone :  03334866523\n",
            "Ufone :  03337686898\n",
            "Ufone :  03337682898\n"
          ]
        }
      ]
    },
    {
      "cell_type": "code",
      "source": [
        "telenor_pattern = re.compile(r'0340\\d{7}')\n",
        "# Find all occurrences of the pattern in the string\n",
        "matches = telenor_pattern.findall(Str_Num)\n",
        "for match in matches:\n",
        "    print(\"Telenor : \" ,match)\n"
      ],
      "metadata": {
        "colab": {
          "base_uri": "https://localhost:8080/"
        },
        "id": "lwdb3fViq2Hr",
        "outputId": "98e50a17-aeb2-4de2-8c3a-a6979d658d03"
      },
      "execution_count": 10,
      "outputs": [
        {
          "output_type": "stream",
          "name": "stdout",
          "text": [
            "Telenor :  03403576658\n",
            "Telenor :  03406486585\n",
            "Telenor :  03403548345\n",
            "Telenor :  03404866523\n",
            "Telenor :  03407686898\n",
            "Telenor :  03407685698\n"
          ]
        }
      ]
    },
    {
      "cell_type": "code",
      "source": [
        "#Converting values from nested list into a single string\n",
        "numbers = [num for sublist in data['Numbers'].str.findall(r'\\d+') for num in sublist]\n",
        "numbers"
      ],
      "metadata": {
        "colab": {
          "base_uri": "https://localhost:8080/"
        },
        "id": "CkUmfvrW6QCZ",
        "outputId": "44107014-a30d-4796-bf76-67501bc89cd5"
      },
      "execution_count": 11,
      "outputs": [
        {
          "output_type": "execute_result",
          "data": {
            "text/plain": [
              "['03003576658',\n",
              " '03103576658',\n",
              " '03333576658',\n",
              " '03403576658',\n",
              " '03006486585',\n",
              " '03106486585',\n",
              " '03336486585',\n",
              " '03406486585',\n",
              " '03003548345',\n",
              " '03103548345',\n",
              " '03333548345',\n",
              " '03403548345',\n",
              " '03004866523',\n",
              " '03104866523',\n",
              " '03334866523',\n",
              " '03404866523',\n",
              " '03007686898',\n",
              " '03107686898',\n",
              " '03337686898',\n",
              " '03407686898',\n",
              " '03007686898',\n",
              " '03107686898',\n",
              " '03337682898',\n",
              " '03407685698']"
            ]
          },
          "metadata": {},
          "execution_count": 11
        }
      ]
    },
    {
      "cell_type": "code",
      "source": [
        "def sim(num):\n",
        "  jazz_pattern = re.compile(r'0300\\d{7}')\n",
        "  zong_pattern = re.compile(r'0310\\d{7}')\n",
        "  ufone_pattern = re.compile(r'0333\\d{7}')\n",
        "  telenor_pattern = re.compile(r'0340\\d{7}')\n",
        "\n",
        "  for i, num in enumerate(numbers):\n",
        "      if jazz_pattern.search(num):\n",
        "          print(f'Jazz Number : {num} \\nAt Line Number {i+1}\\n')\n",
        "      if zong_pattern.search(num):\n",
        "          print(f'Zong Number : {num} \\nAt Line Number {i+1}\\n')\n",
        "      if ufone_pattern.search(num):\n",
        "          print(f'Ufone Number : {num} \\nAt Line Number {i+1}\\n')\n",
        "      if telenor_pattern.search(num):\n",
        "          print(f'Telenor Number : {num} \\nAt Line Number {i+1}\\n')"
      ],
      "metadata": {
        "id": "3IhzCPL5J6m-"
      },
      "execution_count": 12,
      "outputs": []
    },
    {
      "cell_type": "code",
      "source": [
        "sim(numbers)"
      ],
      "metadata": {
        "colab": {
          "base_uri": "https://localhost:8080/"
        },
        "id": "Ewvv8QRO67Id",
        "outputId": "907197fa-39ff-4dcb-f2cc-f8cac72f2dbc"
      },
      "execution_count": 13,
      "outputs": [
        {
          "output_type": "stream",
          "name": "stdout",
          "text": [
            "Jazz Number : 03003576658 \n",
            "At Line Number 1\n",
            "\n",
            "Zong Number : 03103576658 \n",
            "At Line Number 2\n",
            "\n",
            "Ufone Number : 03333576658 \n",
            "At Line Number 3\n",
            "\n",
            "Telenor Number : 03403576658 \n",
            "At Line Number 4\n",
            "\n",
            "Jazz Number : 03006486585 \n",
            "At Line Number 5\n",
            "\n",
            "Zong Number : 03106486585 \n",
            "At Line Number 6\n",
            "\n",
            "Ufone Number : 03336486585 \n",
            "At Line Number 7\n",
            "\n",
            "Telenor Number : 03406486585 \n",
            "At Line Number 8\n",
            "\n",
            "Jazz Number : 03003548345 \n",
            "At Line Number 9\n",
            "\n",
            "Zong Number : 03103548345 \n",
            "At Line Number 10\n",
            "\n",
            "Ufone Number : 03333548345 \n",
            "At Line Number 11\n",
            "\n",
            "Telenor Number : 03403548345 \n",
            "At Line Number 12\n",
            "\n",
            "Jazz Number : 03004866523 \n",
            "At Line Number 13\n",
            "\n",
            "Zong Number : 03104866523 \n",
            "At Line Number 14\n",
            "\n",
            "Ufone Number : 03334866523 \n",
            "At Line Number 15\n",
            "\n",
            "Telenor Number : 03404866523 \n",
            "At Line Number 16\n",
            "\n",
            "Jazz Number : 03007686898 \n",
            "At Line Number 17\n",
            "\n",
            "Zong Number : 03107686898 \n",
            "At Line Number 18\n",
            "\n",
            "Ufone Number : 03337686898 \n",
            "At Line Number 19\n",
            "\n",
            "Telenor Number : 03407686898 \n",
            "At Line Number 20\n",
            "\n",
            "Jazz Number : 03007686898 \n",
            "At Line Number 21\n",
            "\n",
            "Zong Number : 03107686898 \n",
            "At Line Number 22\n",
            "\n",
            "Ufone Number : 03337682898 \n",
            "At Line Number 23\n",
            "\n",
            "Telenor Number : 03407685698 \n",
            "At Line Number 24\n",
            "\n"
          ]
        }
      ]
    },
    {
      "cell_type": "code",
      "source": [
        "#Find Name From Text"
      ],
      "metadata": {
        "id": "xhCjEV9iz-nt"
      },
      "execution_count": 14,
      "outputs": []
    },
    {
      "cell_type": "code",
      "source": [
        "#Find Iter finds all the required matches in a loop\n",
        "text = \"My name is Mohammad Umer Khan i am artist my David Guetta and my name is Armin Arlalet\"\n",
        "FN_pattern = re.compile(r'\\b([A-Z][a-z]+)\\s([A-Z][a-z]+)\\b')\n",
        "matches = FN_pattern.finditer(text)\n",
        "name = []\n",
        "\n",
        "for match in matches:\n",
        "    name.append(match.group(1))\n",
        "    print(\"First Name : \" ,match.group(1))"
      ],
      "metadata": {
        "id": "QPrOLX1vVKUA",
        "colab": {
          "base_uri": "https://localhost:8080/"
        },
        "outputId": "1e1190e6-6e55-4cda-a778-a4a9b6609f8f"
      },
      "execution_count": 26,
      "outputs": [
        {
          "output_type": "stream",
          "name": "stdout",
          "text": [
            "First Name :  Mohammad\n",
            "First Name :  David\n",
            "First Name :  Armin\n"
          ]
        }
      ]
    },
    {
      "cell_type": "code",
      "source": [
        "name"
      ],
      "metadata": {
        "colab": {
          "base_uri": "https://localhost:8080/"
        },
        "id": "jz8UtqTMPEME",
        "outputId": "74a5ebfd-0a45-4158-c6a3-f3f81901c7d8"
      },
      "execution_count": 27,
      "outputs": [
        {
          "output_type": "execute_result",
          "data": {
            "text/plain": [
              "['Mohammad', 'David', 'Armin']"
            ]
          },
          "metadata": {},
          "execution_count": 27
        }
      ]
    },
    {
      "cell_type": "code",
      "source": [
        "with open('names.csv', 'w', newline='') as csvfile:\n",
        "    writer = csv.writer(csvfile)\n",
        "    writer.writerow(['Name'])\n",
        "    writer.writerow([name])\n",
        "    "
      ],
      "metadata": {
        "id": "n0g4gzGoz63G"
      },
      "execution_count": 28,
      "outputs": []
    },
    {
      "cell_type": "code",
      "source": [
        "#Task 2 (Implementign BackSpace Using RE)"
      ],
      "metadata": {
        "id": "wjd1EEZG0UEW"
      },
      "execution_count": 29,
      "outputs": []
    },
    {
      "cell_type": "code",
      "source": [
        "string = input(\"Enter String : \")\n"
      ],
      "metadata": {
        "colab": {
          "base_uri": "https://localhost:8080/"
        },
        "id": "oQcus0CeQ9IF",
        "outputId": "7eddfb6e-612a-4137-b6cf-4979adcf39fa"
      },
      "execution_count": 87,
      "outputs": [
        {
          "name": "stdout",
          "output_type": "stream",
          "text": [
            "Enter String : Mary On A Cross\n"
          ]
        }
      ]
    },
    {
      "cell_type": "code",
      "source": [
        "string"
      ],
      "metadata": {
        "colab": {
          "base_uri": "https://localhost:8080/",
          "height": 36
        },
        "id": "7ZPAZo49RsWj",
        "outputId": "9195d23a-60e6-42ec-d5e6-f0f802a73caa"
      },
      "execution_count": 88,
      "outputs": [
        {
          "output_type": "execute_result",
          "data": {
            "text/plain": [
              "'Mary On A Cross'"
            ],
            "application/vnd.google.colaboratory.intrinsic+json": {
              "type": "string"
            }
          },
          "metadata": {},
          "execution_count": 88
        }
      ]
    },
    {
      "cell_type": "code",
      "source": [
        "while True:\n",
        "  b = input(\"Hit the enter key if you would like to apply the backspace , hit any other if you dont want to backspace anymore\")\n",
        "  if b == \"\":\n",
        "    string = re.sub(\".$\", \"\", string)\n",
        "    print(\"Current String After Backspace : \", string)\n",
        "  else:\n",
        "    break\n",
        "  if string == \"\":\n",
        "    break\n",
        "print(\"Your Final String Is : \", string)"
      ],
      "metadata": {
        "colab": {
          "base_uri": "https://localhost:8080/"
        },
        "id": "5ymej_ymSQmS",
        "outputId": "fd000df0-4c19-4c81-df3c-0a5a44eb4c6c"
      },
      "execution_count": 98,
      "outputs": [
        {
          "name": "stdout",
          "output_type": "stream",
          "text": [
            "Hit the enter key if you would like to apply the backspace , hit any other if you dont want to backspace anymore\n",
            "Current String After Backspace :  Mary O\n",
            "Hit the enter key if you would like to apply the backspace , hit any other if you dont want to backspace anymore\n",
            "Current String After Backspace :  Mary \n",
            "Hit the enter key if you would like to apply the backspace , hit any other if you dont want to backspace anymoree\n"
          ]
        }
      ]
    },
    {
      "cell_type": "code",
      "source": [
        "string\n"
      ],
      "metadata": {
        "colab": {
          "base_uri": "https://localhost:8080/",
          "height": 36
        },
        "id": "WkaPFxSKUAx2",
        "outputId": "f0f5bd7b-9b19-4618-fb63-39deaf887eca"
      },
      "execution_count": 97,
      "outputs": [
        {
          "output_type": "execute_result",
          "data": {
            "text/plain": [
              "'Mary On'"
            ],
            "application/vnd.google.colaboratory.intrinsic+json": {
              "type": "string"
            }
          },
          "metadata": {},
          "execution_count": 97
        }
      ]
    },
    {
      "cell_type": "code",
      "source": [
        "#Task 3"
      ],
      "metadata": {
        "id": "IaJCPwCEcqZN"
      },
      "execution_count": 99,
      "outputs": []
    },
    {
      "cell_type": "code",
      "source": [
        "string = input(\"Enter String : \")\n",
        "\n",
        "while True:\n",
        "  if re.match(r'^\\d{12}$', string):\n",
        "    print(\"String Matches First Conditon\")\n",
        "  else:\n",
        "    print(\"String Doesnt Match First Condtion Re-Enter String Of Digits\\n\")\n",
        "    string = input(\"Enter String : \")\n",
        "  if re.match(r'^(\\d{3}-){3}\\d{3}|\\d{12}$', string):\n",
        "    print(\"String Matches Second Conditon\")\n",
        "  else:\n",
        "    print(\"String Doesnt Match Second Condtion Re-Enter String Of Digits\\n\")\n",
        "    string = input(\"Enter String : \")\n",
        "  if not re.findall(r'(\\d)\\1\\1', string):\n",
        "    print(\"String Matches Third Conditon\")\n",
        "    break\n",
        "  else:\n",
        "    print(\"String Doesnt Match Third Condtion Re-Enter String Of Digits\\n\")\n",
        "    string = input(\"Enter String : \")\n",
        "  \n",
        "  "
      ],
      "metadata": {
        "colab": {
          "base_uri": "https://localhost:8080/"
        },
        "id": "lzhOr6ADhtpm",
        "outputId": "fe3481c0-7b15-4c2f-f2e8-936d75c4999f"
      },
      "execution_count": 122,
      "outputs": [
        {
          "output_type": "stream",
          "name": "stdout",
          "text": [
            "Enter String : 213123123111\n",
            "String Matches First Conditon\n",
            "String Matches Second Conditon\n",
            "String Doesnt Match Third Condtion Re-Enter String Of Digits\n",
            "\n",
            "Enter String : 123123123123\n",
            "String Matches First Conditon\n",
            "String Matches Second Conditon\n",
            "String Matches Third Conditon\n"
          ]
        }
      ]
    },
    {
      "cell_type": "code",
      "source": [
        "#Task 4"
      ],
      "metadata": {
        "id": "BvMUkG4WmUsg"
      },
      "execution_count": 123,
      "outputs": []
    },
    {
      "cell_type": "code",
      "source": [
        "filename = 'code.txt'\n",
        "with open(filename, 'r') as file:\n",
        "    for line in file:\n",
        "      print(line.rstrip())"
      ],
      "metadata": {
        "colab": {
          "base_uri": "https://localhost:8080/"
        },
        "id": "81GDpdeYr8eT",
        "outputId": "d3d88379-17ec-4770-dfa4-384d448632ba"
      },
      "execution_count": 127,
      "outputs": [
        {
          "output_type": "stream",
          "name": "stdout",
          "text": [
            "size = int(input(\"Enter the size of the diamond: \"))\n",
            "\n",
            "# Upper half of the diamond\n",
            "for i in range(1, size+1, 2):\n",
            "    print(\" \" * ((size-i)//2) + \"*\" * i)\n",
            "\n",
            "# Lower half of the diamond\n",
            "for i in range(size-2, 0, -2):\n",
            "    print(\" \" * ((size-i)//2) + \"*\" * i)\n"
          ]
        }
      ]
    },
    {
      "cell_type": "code",
      "source": [
        "comm_pattern = r'\\s*(#|//|/\\).'\n",
        "for i, line in enumerate(filename, 1):\n",
        "  line = line.strip()\n",
        "    \n",
        "  if re.match(comm_pattern, line):      \n",
        "    if line.startswith('#') or line.startswith('//'):\n",
        "      comment_type = 'Single-line comment'\n"
      ],
      "metadata": {
        "colab": {
          "base_uri": "https://localhost:8080/",
          "height": 380
        },
        "id": "bBk73p2tvKqC",
        "outputId": "19111ef8-7bf0-41d3-b113-54b834145733"
      },
      "execution_count": 135,
      "outputs": [
        {
          "output_type": "error",
          "ename": "error",
          "evalue": "ignored",
          "traceback": [
            "\u001b[0;31m---------------------------------------------------------------------------\u001b[0m",
            "\u001b[0;31merror\u001b[0m                                     Traceback (most recent call last)",
            "\u001b[0;32m<ipython-input-135-d51844598c5b>\u001b[0m in \u001b[0;36m<module>\u001b[0;34m\u001b[0m\n\u001b[1;32m      3\u001b[0m   \u001b[0mline\u001b[0m \u001b[0;34m=\u001b[0m \u001b[0mline\u001b[0m\u001b[0;34m.\u001b[0m\u001b[0mstrip\u001b[0m\u001b[0;34m(\u001b[0m\u001b[0;34m)\u001b[0m\u001b[0;34m\u001b[0m\u001b[0;34m\u001b[0m\u001b[0m\n\u001b[1;32m      4\u001b[0m \u001b[0;34m\u001b[0m\u001b[0m\n\u001b[0;32m----> 5\u001b[0;31m   \u001b[0;32mif\u001b[0m \u001b[0mre\u001b[0m\u001b[0;34m.\u001b[0m\u001b[0mmatch\u001b[0m\u001b[0;34m(\u001b[0m\u001b[0mcomm_pattern\u001b[0m\u001b[0;34m,\u001b[0m \u001b[0mline\u001b[0m\u001b[0;34m)\u001b[0m\u001b[0;34m:\u001b[0m\u001b[0;34m\u001b[0m\u001b[0;34m\u001b[0m\u001b[0m\n\u001b[0m\u001b[1;32m      6\u001b[0m     \u001b[0;32mif\u001b[0m \u001b[0mline\u001b[0m\u001b[0;34m.\u001b[0m\u001b[0mstartswith\u001b[0m\u001b[0;34m(\u001b[0m\u001b[0;34m'#'\u001b[0m\u001b[0;34m)\u001b[0m \u001b[0;32mor\u001b[0m \u001b[0mline\u001b[0m\u001b[0;34m.\u001b[0m\u001b[0mstartswith\u001b[0m\u001b[0;34m(\u001b[0m\u001b[0;34m'//'\u001b[0m\u001b[0;34m)\u001b[0m\u001b[0;34m:\u001b[0m\u001b[0;34m\u001b[0m\u001b[0;34m\u001b[0m\u001b[0m\n\u001b[1;32m      7\u001b[0m       \u001b[0mcomment_type\u001b[0m \u001b[0;34m=\u001b[0m \u001b[0;34m'Single-line comment'\u001b[0m\u001b[0;34m\u001b[0m\u001b[0;34m\u001b[0m\u001b[0m\n",
            "\u001b[0;32m/usr/lib/python3.8/re.py\u001b[0m in \u001b[0;36mmatch\u001b[0;34m(pattern, string, flags)\u001b[0m\n\u001b[1;32m    189\u001b[0m     \"\"\"Try to apply the pattern at the start of the string, returning\n\u001b[1;32m    190\u001b[0m     a Match object, or None if no match was found.\"\"\"\n\u001b[0;32m--> 191\u001b[0;31m     \u001b[0;32mreturn\u001b[0m \u001b[0m_compile\u001b[0m\u001b[0;34m(\u001b[0m\u001b[0mpattern\u001b[0m\u001b[0;34m,\u001b[0m \u001b[0mflags\u001b[0m\u001b[0;34m)\u001b[0m\u001b[0;34m.\u001b[0m\u001b[0mmatch\u001b[0m\u001b[0;34m(\u001b[0m\u001b[0mstring\u001b[0m\u001b[0;34m)\u001b[0m\u001b[0;34m\u001b[0m\u001b[0;34m\u001b[0m\u001b[0m\n\u001b[0m\u001b[1;32m    192\u001b[0m \u001b[0;34m\u001b[0m\u001b[0m\n\u001b[1;32m    193\u001b[0m \u001b[0;32mdef\u001b[0m \u001b[0mfullmatch\u001b[0m\u001b[0;34m(\u001b[0m\u001b[0mpattern\u001b[0m\u001b[0;34m,\u001b[0m \u001b[0mstring\u001b[0m\u001b[0;34m,\u001b[0m \u001b[0mflags\u001b[0m\u001b[0;34m=\u001b[0m\u001b[0;36m0\u001b[0m\u001b[0;34m)\u001b[0m\u001b[0;34m:\u001b[0m\u001b[0;34m\u001b[0m\u001b[0;34m\u001b[0m\u001b[0m\n",
            "\u001b[0;32m/usr/lib/python3.8/re.py\u001b[0m in \u001b[0;36m_compile\u001b[0;34m(pattern, flags)\u001b[0m\n\u001b[1;32m    302\u001b[0m     \u001b[0;32mif\u001b[0m \u001b[0;32mnot\u001b[0m \u001b[0msre_compile\u001b[0m\u001b[0;34m.\u001b[0m\u001b[0misstring\u001b[0m\u001b[0;34m(\u001b[0m\u001b[0mpattern\u001b[0m\u001b[0;34m)\u001b[0m\u001b[0;34m:\u001b[0m\u001b[0;34m\u001b[0m\u001b[0;34m\u001b[0m\u001b[0m\n\u001b[1;32m    303\u001b[0m         \u001b[0;32mraise\u001b[0m \u001b[0mTypeError\u001b[0m\u001b[0;34m(\u001b[0m\u001b[0;34m\"first argument must be string or compiled pattern\"\u001b[0m\u001b[0;34m)\u001b[0m\u001b[0;34m\u001b[0m\u001b[0;34m\u001b[0m\u001b[0m\n\u001b[0;32m--> 304\u001b[0;31m     \u001b[0mp\u001b[0m \u001b[0;34m=\u001b[0m \u001b[0msre_compile\u001b[0m\u001b[0;34m.\u001b[0m\u001b[0mcompile\u001b[0m\u001b[0;34m(\u001b[0m\u001b[0mpattern\u001b[0m\u001b[0;34m,\u001b[0m \u001b[0mflags\u001b[0m\u001b[0;34m)\u001b[0m\u001b[0;34m\u001b[0m\u001b[0;34m\u001b[0m\u001b[0m\n\u001b[0m\u001b[1;32m    305\u001b[0m     \u001b[0;32mif\u001b[0m \u001b[0;32mnot\u001b[0m \u001b[0;34m(\u001b[0m\u001b[0mflags\u001b[0m \u001b[0;34m&\u001b[0m \u001b[0mDEBUG\u001b[0m\u001b[0;34m)\u001b[0m\u001b[0;34m:\u001b[0m\u001b[0;34m\u001b[0m\u001b[0;34m\u001b[0m\u001b[0m\n\u001b[1;32m    306\u001b[0m         \u001b[0;32mif\u001b[0m \u001b[0mlen\u001b[0m\u001b[0;34m(\u001b[0m\u001b[0m_cache\u001b[0m\u001b[0;34m)\u001b[0m \u001b[0;34m>=\u001b[0m \u001b[0m_MAXCACHE\u001b[0m\u001b[0;34m:\u001b[0m\u001b[0;34m\u001b[0m\u001b[0;34m\u001b[0m\u001b[0m\n",
            "\u001b[0;32m/usr/lib/python3.8/sre_compile.py\u001b[0m in \u001b[0;36mcompile\u001b[0;34m(p, flags)\u001b[0m\n\u001b[1;32m    762\u001b[0m     \u001b[0;32mif\u001b[0m \u001b[0misstring\u001b[0m\u001b[0;34m(\u001b[0m\u001b[0mp\u001b[0m\u001b[0;34m)\u001b[0m\u001b[0;34m:\u001b[0m\u001b[0;34m\u001b[0m\u001b[0;34m\u001b[0m\u001b[0m\n\u001b[1;32m    763\u001b[0m         \u001b[0mpattern\u001b[0m \u001b[0;34m=\u001b[0m \u001b[0mp\u001b[0m\u001b[0;34m\u001b[0m\u001b[0;34m\u001b[0m\u001b[0m\n\u001b[0;32m--> 764\u001b[0;31m         \u001b[0mp\u001b[0m \u001b[0;34m=\u001b[0m \u001b[0msre_parse\u001b[0m\u001b[0;34m.\u001b[0m\u001b[0mparse\u001b[0m\u001b[0;34m(\u001b[0m\u001b[0mp\u001b[0m\u001b[0;34m,\u001b[0m \u001b[0mflags\u001b[0m\u001b[0;34m)\u001b[0m\u001b[0;34m\u001b[0m\u001b[0;34m\u001b[0m\u001b[0m\n\u001b[0m\u001b[1;32m    765\u001b[0m     \u001b[0;32melse\u001b[0m\u001b[0;34m:\u001b[0m\u001b[0;34m\u001b[0m\u001b[0;34m\u001b[0m\u001b[0m\n\u001b[1;32m    766\u001b[0m         \u001b[0mpattern\u001b[0m \u001b[0;34m=\u001b[0m \u001b[0;32mNone\u001b[0m\u001b[0;34m\u001b[0m\u001b[0;34m\u001b[0m\u001b[0m\n",
            "\u001b[0;32m/usr/lib/python3.8/sre_parse.py\u001b[0m in \u001b[0;36mparse\u001b[0;34m(str, flags, state)\u001b[0m\n\u001b[1;32m    946\u001b[0m \u001b[0;34m\u001b[0m\u001b[0m\n\u001b[1;32m    947\u001b[0m     \u001b[0;32mtry\u001b[0m\u001b[0;34m:\u001b[0m\u001b[0;34m\u001b[0m\u001b[0;34m\u001b[0m\u001b[0m\n\u001b[0;32m--> 948\u001b[0;31m         \u001b[0mp\u001b[0m \u001b[0;34m=\u001b[0m \u001b[0m_parse_sub\u001b[0m\u001b[0;34m(\u001b[0m\u001b[0msource\u001b[0m\u001b[0;34m,\u001b[0m \u001b[0mstate\u001b[0m\u001b[0;34m,\u001b[0m \u001b[0mflags\u001b[0m \u001b[0;34m&\u001b[0m \u001b[0mSRE_FLAG_VERBOSE\u001b[0m\u001b[0;34m,\u001b[0m \u001b[0;36m0\u001b[0m\u001b[0;34m)\u001b[0m\u001b[0;34m\u001b[0m\u001b[0;34m\u001b[0m\u001b[0m\n\u001b[0m\u001b[1;32m    949\u001b[0m     \u001b[0;32mexcept\u001b[0m \u001b[0mVerbose\u001b[0m\u001b[0;34m:\u001b[0m\u001b[0;34m\u001b[0m\u001b[0;34m\u001b[0m\u001b[0m\n\u001b[1;32m    950\u001b[0m         \u001b[0;31m# the VERBOSE flag was switched on inside the pattern.  to be\u001b[0m\u001b[0;34m\u001b[0m\u001b[0;34m\u001b[0m\u001b[0;34m\u001b[0m\u001b[0m\n",
            "\u001b[0;32m/usr/lib/python3.8/sre_parse.py\u001b[0m in \u001b[0;36m_parse_sub\u001b[0;34m(source, state, verbose, nested)\u001b[0m\n\u001b[1;32m    441\u001b[0m     \u001b[0mstart\u001b[0m \u001b[0;34m=\u001b[0m \u001b[0msource\u001b[0m\u001b[0;34m.\u001b[0m\u001b[0mtell\u001b[0m\u001b[0;34m(\u001b[0m\u001b[0;34m)\u001b[0m\u001b[0;34m\u001b[0m\u001b[0;34m\u001b[0m\u001b[0m\n\u001b[1;32m    442\u001b[0m     \u001b[0;32mwhile\u001b[0m \u001b[0;32mTrue\u001b[0m\u001b[0;34m:\u001b[0m\u001b[0;34m\u001b[0m\u001b[0;34m\u001b[0m\u001b[0m\n\u001b[0;32m--> 443\u001b[0;31m         itemsappend(_parse(source, state, verbose, nested + 1,\n\u001b[0m\u001b[1;32m    444\u001b[0m                            not nested and not items))\n\u001b[1;32m    445\u001b[0m         \u001b[0;32mif\u001b[0m \u001b[0;32mnot\u001b[0m \u001b[0msourcematch\u001b[0m\u001b[0;34m(\u001b[0m\u001b[0;34m\"|\"\u001b[0m\u001b[0;34m)\u001b[0m\u001b[0;34m:\u001b[0m\u001b[0;34m\u001b[0m\u001b[0;34m\u001b[0m\u001b[0m\n",
            "\u001b[0;32m/usr/lib/python3.8/sre_parse.py\u001b[0m in \u001b[0;36m_parse\u001b[0;34m(source, state, verbose, nested, first)\u001b[0m\n\u001b[1;32m    834\u001b[0m             \u001b[0mp\u001b[0m \u001b[0;34m=\u001b[0m \u001b[0m_parse_sub\u001b[0m\u001b[0;34m(\u001b[0m\u001b[0msource\u001b[0m\u001b[0;34m,\u001b[0m \u001b[0mstate\u001b[0m\u001b[0;34m,\u001b[0m \u001b[0msub_verbose\u001b[0m\u001b[0;34m,\u001b[0m \u001b[0mnested\u001b[0m \u001b[0;34m+\u001b[0m \u001b[0;36m1\u001b[0m\u001b[0;34m)\u001b[0m\u001b[0;34m\u001b[0m\u001b[0;34m\u001b[0m\u001b[0m\n\u001b[1;32m    835\u001b[0m             \u001b[0;32mif\u001b[0m \u001b[0;32mnot\u001b[0m \u001b[0msource\u001b[0m\u001b[0;34m.\u001b[0m\u001b[0mmatch\u001b[0m\u001b[0;34m(\u001b[0m\u001b[0;34m\")\"\u001b[0m\u001b[0;34m)\u001b[0m\u001b[0;34m:\u001b[0m\u001b[0;34m\u001b[0m\u001b[0;34m\u001b[0m\u001b[0m\n\u001b[0;32m--> 836\u001b[0;31m                 raise source.error(\"missing ), unterminated subpattern\",\n\u001b[0m\u001b[1;32m    837\u001b[0m                                    source.tell() - start)\n\u001b[1;32m    838\u001b[0m             \u001b[0;32mif\u001b[0m \u001b[0mgroup\u001b[0m \u001b[0;32mis\u001b[0m \u001b[0;32mnot\u001b[0m \u001b[0;32mNone\u001b[0m\u001b[0;34m:\u001b[0m\u001b[0;34m\u001b[0m\u001b[0;34m\u001b[0m\u001b[0m\n",
            "\u001b[0;31merror\u001b[0m: missing ), unterminated subpattern at position 3"
          ]
        }
      ]
    },
    {
      "cell_type": "code",
      "source": [],
      "metadata": {
        "id": "p9pifN-WxY6B"
      },
      "execution_count": null,
      "outputs": []
    }
  ]
}